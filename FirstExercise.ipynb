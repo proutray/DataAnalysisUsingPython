{
 "metadata": {
  "name": "FirstExercise"
 }, 
 "nbformat": 2, 
 "worksheets": [
  {
   "cells": [
    {
     "cell_type": "code", 
     "collapsed": true, 
     "input": [
      "from pandas import *", 
      "import pandas"
     ], 
     "language": "python", 
     "outputs": []
    }, 
    {
     "cell_type": "code", 
     "collapsed": true, 
     "input": [
      "bookings = read_csv('bookings.csv.bz2', sep = '^', compression = 'bz2')", 
      "len_bookings = len(bookings.index)", 
      "bookings = None", 
      "print 'No. of lines in bookings.csv.bz2 =',len_bookings"
     ], 
     "language": "python", 
     "outputs": []
    }, 
    {
     "cell_type": "code", 
     "collapsed": true, 
     "input": [
      "searches = read_csv('searches.csv.bz2', delimiter = '^', compression = 'bz2')", 
      "len_searches = len(searches.index)", 
      "searches = None", 
      "print 'No. of lines in searches.csv.bz2 =',len_searches"
     ], 
     "language": "python", 
     "outputs": []
    }
   ]
  }
 ]
}
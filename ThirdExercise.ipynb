{
 "metadata": {
  "name": "ThirdExercise"
 }, 
 "nbformat": 2, 
 "worksheets": [
  {
   "cells": [
    {
     "cell_type": "code", 
     "collapsed": true, 
     "input": [
      "from pandas import *", 
      "import pandas", 
      "import matplotlib.pyplot as plt"
     ], 
     "language": "python", 
     "outputs": []
    }, 
    {
     "cell_type": "code", 
     "collapsed": true, 
     "input": [
      "#Reading files and getting data", 
      "searches = read_csv('searches.csv.bz2', sep = '^', compression = 'bz2',parse_dates=True,dayfirst=True)", 
      "sr = searches.ix[:,['Date','Destination']]", 
      "searches = None", 
      "index = DatetimeIndex(sr['Date'])", 
      "sr['No of Searches'] = 1", 
      "sr['Month'] = zip(index.month,index.year)", 
      "grpsr = sr.groupby(['Destination','Month'], as_index=False, sort=False).sum()", 
      "sr = None"
     ], 
     "language": "python", 
     "outputs": []
    }, 
    {
     "cell_type": "code", 
     "collapsed": true, 
     "input": [
      "#selecting airports", 
      "gbcn = grpsr[grpsr['Destination']=='BCN']", 
      "gbla = grpsr[grpsr['Destination']=='BLA']", 
      "gmad = grpsr[grpsr['Destination']=='MAD']", 
      "gagp = grpsr[grpsr['Destination']=='AGP']"
     ], 
     "language": "python", 
     "outputs": []
    }, 
    {
     "cell_type": "code", 
     "collapsed": true, 
     "input": [
      "#Plotting ", 
      "plt.figure()", 
      "if len(gbcn):", 
      "    gbcn.plot(kind = 'bar',color='g',x='Month',y='No of Searches',label = 'Barcelona, Spain')", 
      "if len(gbla):", 
      "    gbla.plot(kind = 'bar',color='b',x='Month',y='No of Searches',label = 'Barcelona, Venezuela')", 
      "if len(gmad):", 
      "    gmad.plot(kind = 'bar',color='r',x='Month',y='No of Searches',label = 'Madrid')", 
      "if len(gagp):", 
      "    gagp.plot(kind = 'bar',color='c',x='Month',y='No of Searches',label = 'Malaga')"
     ], 
     "language": "python", 
     "outputs": []
    }
   ]
  }
 ]
}
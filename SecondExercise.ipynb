{
 "metadata": {
  "name": "SecondExercise"
 }, 
 "nbformat": 2, 
 "worksheets": [
  {
   "cells": [
    {
     "cell_type": "code", 
     "collapsed": true, 
     "input": [
      "from pandas import *", 
      "import pandas"
     ], 
     "language": "python", 
     "outputs": []
    }, 
    {
     "cell_type": "code", 
     "collapsed": true, 
     "input": [
      "#Reading files and getting data", 
      "bookings_file = read_csv('bookings.csv.bz2', sep = '^', compression = 'bz2')", 
      "book = bookings_file.ix[:,['arr_port','pax']]", 
      "bookings = None"
     ], 
     "language": "python", 
     "outputs": []
    }, 
    {
     "cell_type": "code", 
     "collapsed": true, 
     "input": [
      "grpbk = book.groupby('arr_port', as_index=False, sort=False).sum()", 
      "grpbk.columns = ['Airport','NumberOfPassengers']", 
      "finaldata = (grpbk.sort('NumberOfPassengers', ascending = False, kind ='mergesort'))[:10]", 
      "print finaldata"
     ], 
     "language": "python", 
     "outputs": []
    }
   ]
  }
 ]
}
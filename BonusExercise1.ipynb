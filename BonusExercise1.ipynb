{
 "metadata": {
  "name": "BonusExercise1"
 }, 
 "nbformat": 2, 
 "worksheets": [
  {
   "cells": [
    {
     "cell_type": "code", 
     "collapsed": true, 
     "input": [
      "from pandas import *", 
      "import pandas"
     ], 
     "language": "python", 
     "outputs": []
    }, 
    {
     "cell_type": "code", 
     "collapsed": true, 
     "input": [
      "#Reading files and getting data", 
      "bookings = read_csv('bookings.csv.bz2', sep = '^', compression = 'bz2')", 
      "bk = bookings.ix[:,['act_date           ','dep_port','arr_port']]", 
      "bookings = None", 
      "sr = read_csv('searches.csv.bz2', delimiter = '^', compression = 'bz2')"
     ], 
     "language": "python", 
     "outputs": []
    }, 
    {
     "cell_type": "code", 
     "collapsed": true, 
     "input": [
      "# Processing bookings file", 
      "bk.columns = ['act_date','Origin','Destination']", 
      "b_index = DatetimeIndex(bk['act_date'])", 
      "bk['Date'] = b_index.date", 
      "bk = bk.ix[:,['Date','Origin','Destination']]", 
      "bk['Successfully Booked']=1"
     ], 
     "language": "python", 
     "outputs": []
    }, 
    {
     "cell_type": "code", 
     "collapsed": true, 
     "input": [
      "#processing searches file", 
      "s_index = DatetimeIndex(sr['Date'])", 
      "sr['Dt'] = s_index.date", 
      "sr = sr.drop('Date', 1)", 
      "sr.rename(columns={'Dt':'Date'}, inplace=True)", 
      "cols = sr.columns.tolist()", 
      "cols = cols[-1:] + cols[:-1]", 
      "sr = sr[cols]"
     ], 
     "language": "python", 
     "outputs": []
    }, 
    {
     "cell_type": "code", 
     "collapsed": true, 
     "input": [
      "#Merging both series to get final data", 
      "finaldata = pandas.merge(sr, bk, how='left',on=['Date','Origin','Destination'])", 
      "sr = None", 
      "finaldata['Successfully Booked'].fillna(0, inplace=True)", 
      "finaldata.to_csv('finalfile.csv',index=False,sep='^')"
     ], 
     "language": "python", 
     "outputs": []
    }
   ]
  }
 ]
}